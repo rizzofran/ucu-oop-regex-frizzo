{
 "cells": [
  {
   "cell_type": "code",
   "metadata": {
    "collapsed": true,
    "ExecuteTime": {
     "end_time": "2025-09-04T11:52:40.347450Z",
     "start_time": "2025-09-04T11:52:40.343253Z"
    }
   },
   "source": [
    "## Importo el móludo de regex.\n",
    "\n",
    "import re"
   ],
   "outputs": [],
   "execution_count": 2
  },
  {
   "metadata": {
    "ExecuteTime": {
     "end_time": "2025-09-04T12:05:12.175172Z",
     "start_time": "2025-09-04T12:05:12.166323Z"
    }
   },
   "cell_type": "code",
   "source": [
    "## Tarea 1 – Extraer el año\n",
    "\n",
    "## Abro el archivo\n",
    "archivo = open(\"../data/baby1990.html\")\n",
    "\n",
    "## Guardo el contenido del archivo en una variable\n",
    "contenido = archivo.read()"
   ],
   "outputs": [],
   "execution_count": 5
  },
  {
   "metadata": {
    "ExecuteTime": {
     "end_time": "2025-09-04T12:06:29.337789Z",
     "start_time": "2025-09-04T12:06:29.332767Z"
    }
   },
   "cell_type": "code",
   "source": [
    "## Detecto el año\n",
    "\n",
    "resultado = re.search(r\"Popularity in (\\d{4})\", contenido)"
   ],
   "outputs": [],
   "execution_count": 7
  },
  {
   "metadata": {
    "ExecuteTime": {
     "end_time": "2025-09-04T12:08:27.400717Z",
     "start_time": "2025-09-04T12:08:27.392984Z"
    }
   },
   "cell_type": "code",
   "source": [
    "## Si el código encuentra un resultado, lo va a mostrar. Si no\n",
    "## va a mostrar un error programado\n",
    "if resultado:\n",
    "    anio = resultado.group(1)\n",
    "    print(\"Año:\", anio)\n",
    "else:\n",
    "    print(\"Año no encontrado\")"
   ],
   "outputs": [
    {
     "name": "stdout",
     "output_type": "stream",
     "text": [
      "Año: 1990\n"
     ]
    }
   ],
   "execution_count": 8
  },
  {
   "metadata": {},
   "cell_type": "markdown",
   "source": [
    "Tarea 2: Extraer nombres y rankings.\n",
    "\n",
    "Busco las líneas del archivo HTML que contengan el ranking y los nombres, con una expresión regular que extrae 3 grupos: El número de ranking, el nombre del niño y el nombre de la niña.\n",
    "Los almaceno como tuplas `(nombre, ranking)` en una lista."
   ]
  },
  {
   "metadata": {
    "ExecuteTime": {
     "end_time": "2025-09-04T12:19:29.346177Z",
     "start_time": "2025-09-04T12:19:29.335383Z"
    }
   },
   "cell_type": "code",
   "source": [
    "# Busc0 todas las coincidencias de ranking + nombre_nino + nombre_nina\n",
    "coincidencias = re.findall(r\"<td>(\\d+)</td><td>([A-Za-z]+)</td><td>([A-Za-z]+)</td>\", contenido)"
   ],
   "outputs": [],
   "execution_count": 9
  },
  {
   "metadata": {
    "ExecuteTime": {
     "end_time": "2025-09-04T12:19:55.297949Z",
     "start_time": "2025-09-04T12:19:55.288446Z"
    }
   },
   "cell_type": "code",
   "source": [
    "# Creo lista de tuplas (nombre, ranking)\n",
    "lista_nombres = []\n",
    "for ranking, nombre_nino, nombre_nina in coincidencias:\n",
    "    lista_nombres.append((nombre_nino, ranking))\n",
    "    lista_nombres.append((nombre_nina, ranking))"
   ],
   "outputs": [],
   "execution_count": 10
  },
  {
   "metadata": {
    "ExecuteTime": {
     "end_time": "2025-09-04T12:20:05.480956Z",
     "start_time": "2025-09-04T12:20:05.474859Z"
    }
   },
   "cell_type": "code",
   "source": [
    "# Muestro los primeros resultados\n",
    "print(lista_nombres[:10])"
   ],
   "outputs": [
    {
     "name": "stdout",
     "output_type": "stream",
     "text": [
      "[('Michael', '1'), ('Jessica', '1'), ('Christopher', '2'), ('Ashley', '2'), ('Matthew', '3'), ('Brittany', '3'), ('Joshua', '4'), ('Amanda', '4'), ('Daniel', '5'), ('Samantha', '5')]\n"
     ]
    }
   ],
   "execution_count": 11
  },
  {
   "metadata": {},
   "cell_type": "markdown",
   "source": [
    "Tarea 3: Crear diccionario {nombre: ranking}\n",
    "\n",
    "Uso la lista de tuplas `(nombre, ranking)` de la Tarea 2.\n",
    "Creo un diccionario donde la clave es el nombre y el valor es su posición en el ranking.\n",
    "Si un nombre aparece más de una vez, solo se guarda la primera vez que aparece.\n"
   ]
  },
  {
   "metadata": {
    "ExecuteTime": {
     "end_time": "2025-09-04T12:25:56.683556Z",
     "start_time": "2025-09-04T12:25:56.677501Z"
    }
   },
   "cell_type": "code",
   "source": [
    "## Creo un diccionario vacío\n",
    "diccionario = {}"
   ],
   "outputs": [],
   "execution_count": 12
  },
  {
   "metadata": {
    "ExecuteTime": {
     "end_time": "2025-09-04T12:27:23.504502Z",
     "start_time": "2025-09-04T12:27:23.496748Z"
    }
   },
   "cell_type": "code",
   "source": [
    "# Recorro la lista de tuplas obtenida en la tarea anterior\n",
    "for nombre, ranking in lista_nombres:\n",
    "# Si el nombre no está en el diccionario, lo agrego\n",
    "    if nombre not in diccionario:\n",
    "        diccionario[nombre] = ranking"
   ],
   "outputs": [],
   "execution_count": 14
  },
  {
   "metadata": {
    "ExecuteTime": {
     "end_time": "2025-09-04T12:27:56.854557Z",
     "start_time": "2025-09-04T12:27:56.846015Z"
    }
   },
   "cell_type": "code",
   "source": [
    "# Muestro los primeros elementos del diccionario en orden\n",
    "print(list(diccionario.items())[:10])"
   ],
   "outputs": [
    {
     "name": "stdout",
     "output_type": "stream",
     "text": [
      "[('Michael', '1'), ('Jessica', '1'), ('Christopher', '2'), ('Ashley', '2'), ('Matthew', '3'), ('Brittany', '3'), ('Joshua', '4'), ('Amanda', '4'), ('Daniel', '5'), ('Samantha', '5')]\n"
     ]
    }
   ],
   "execution_count": 15
  },
  {
   "metadata": {},
   "cell_type": "markdown",
   "source": [
    "Tarea 4: Lista de nombres ordenada alfabéticamente\n",
    "\n",
    "A partir del diccionario generado de la tarea 3, creo una lista que contenga solo los nombres.\n",
    "\n"
   ]
  },
  {
   "metadata": {
    "ExecuteTime": {
     "end_time": "2025-09-04T12:31:27.283994Z",
     "start_time": "2025-09-04T12:31:27.275409Z"
    }
   },
   "cell_type": "code",
   "source": [
    "# Extraigo los nombres del diccionario\n",
    "nombres_ordenados = sorted(diccionario.keys())\n",
    "\n",
    "# Muestro los primeros elementos\n",
    "print(nombres_ordenados[:10])\n"
   ],
   "outputs": [
    {
     "name": "stdout",
     "output_type": "stream",
     "text": [
      "['Aaron', 'Abbey', 'Abbie', 'Abby', 'Abdul', 'Abel', 'Abigail', 'Abraham', 'Abram', 'Adam']\n"
     ]
    }
   ],
   "execution_count": 16
  },
  {
   "metadata": {},
   "cell_type": "markdown",
   "source": [
    "Tarea 5: Lista final combinando año + nombres con ranking\n",
    "Creao una nueva lista en la que el primer elemento es el año y le agrego strings del tipo \"nombre - ranking\", ordenados alfabéticamente.\n"
   ]
  },
  {
   "metadata": {
    "ExecuteTime": {
     "end_time": "2025-09-04T12:35:37.149101Z",
     "start_time": "2025-09-04T12:35:37.140518Z"
    }
   },
   "cell_type": "code",
   "source": [
    "## Creo una nueva lista\n",
    "lista_final = [anio]\n"
   ],
   "outputs": [],
   "execution_count": 17
  },
  {
   "metadata": {
    "ExecuteTime": {
     "end_time": "2025-09-04T12:36:35.031814Z",
     "start_time": "2025-09-04T12:36:35.024706Z"
    }
   },
   "cell_type": "code",
   "source": [
    "# Recorro la lista de nombres ordenados de la tarea 4\n",
    "for nombre in nombres_ordenados:\n",
    "    ranking = diccionario[nombre]  # obtengo el ranking de ese nombre\n",
    "    lista_final.append(f\"{nombre} - {ranking}\")  # formato como pide la consigna"
   ],
   "outputs": [],
   "execution_count": 19
  },
  {
   "metadata": {
    "ExecuteTime": {
     "end_time": "2025-09-04T12:36:52.310971Z",
     "start_time": "2025-09-04T12:36:52.302699Z"
    }
   },
   "cell_type": "code",
   "source": [
    "## Muestro los valores\n",
    "\n",
    "print(lista_final[:10])"
   ],
   "outputs": [
    {
     "name": "stdout",
     "output_type": "stream",
     "text": [
      "['1990', 'Aaron - 34', 'Abbey - 482', 'Abbie - 685', 'Abby - 222', 'Abdul - 934', 'Abel - 384', 'Abigail - 90', 'Abraham - 246', 'Abram - 920']\n"
     ]
    }
   ],
   "execution_count": 20
  }
 ],
 "metadata": {
  "kernelspec": {
   "display_name": "Python 3",
   "language": "python",
   "name": "python3"
  },
  "language_info": {
   "codemirror_mode": {
    "name": "ipython",
    "version": 2
   },
   "file_extension": ".py",
   "mimetype": "text/x-python",
   "name": "python",
   "nbconvert_exporter": "python",
   "pygments_lexer": "ipython2",
   "version": "2.7.6"
  }
 },
 "nbformat": 4,
 "nbformat_minor": 0
}
